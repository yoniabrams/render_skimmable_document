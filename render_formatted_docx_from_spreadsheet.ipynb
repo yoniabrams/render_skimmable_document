{
  "nbformat": 4,
  "nbformat_minor": 0,
  "metadata": {
    "colab": {
      "provenance": []
    },
    "kernelspec": {
      "name": "python3",
      "display_name": "Python 3"
    },
    "language_info": {
      "name": "python"
    }
  },
  "cells": [
    {
      "cell_type": "markdown",
      "source": [
        "# Welcome!\n",
        "\n",
        "### Let's render a nice word document to skim some samples from our dataset\n",
        "\n",
        "\n",
        "If you need, make sure to install the main package we'll be using:\n",
        "```\n",
        "! pip install python-docx\n",
        "```\n",
        "\n"
      ],
      "metadata": {
        "id": "Cvd7la9U6w5-"
      }
    },
    {
      "cell_type": "code",
      "source": [
        "# @title Imports\n",
        "\n",
        "# we'l use pandas locally in python to handle the spreadsheet\n",
        "import pandas as pd\n",
        "\n",
        "# this is the important one!\n",
        "from docx import Document\n",
        "\n",
        "# we'll first try this out on an existing dataset, and then apply it to an imported spreadsheet\n",
        "from sklearn.datasets import load_iris"
      ],
      "metadata": {
        "id": "JU49SY1P6iyY"
      },
      "execution_count": 3,
      "outputs": []
    },
    {
      "cell_type": "code",
      "source": [
        "# @title Let's start with making a formatted document to browse some classic tabular tada\n",
        "iris = load_iris()\n",
        "iris_data = pd.DataFrame(data=iris.data, columns=iris.feature_names)"
      ],
      "metadata": {
        "id": "FEOrhsBH7Oqi"
      },
      "execution_count": 4,
      "outputs": []
    },
    {
      "cell_type": "code",
      "source": [
        "# create Document object\n",
        "doc = Document()\n",
        "\n",
        "# add heading\n",
        "doc.add_heading('Iris Dataset', 0)  # 0 header is the highest-level header\n",
        "\n",
        "# format the word document\n",
        "for i, (index, row) in enumerate(iris_data.iterrows(), start=1):\n",
        "    # each sample has its own numbered heading\n",
        "    doc.add_heading(f'Iris Sample #{i}', level=1)\n",
        "\n",
        "    # for the 4 features, make a 4-lined bullet-point list\n",
        "    doc.add_paragraph(f'Sepal Length: {row[\"sepal length (cm)\"]}', style='List Bullet')\n",
        "    doc.add_paragraph(f'Sepal Width: {row[\"sepal width (cm)\"]}', style='List Bullet')\n",
        "    doc.add_paragraph(f'Petal Length: {row[\"petal length (cm)\"]}', style='List Bullet')\n",
        "    doc.add_paragraph(f'Petal Width: {row[\"petal width (cm)\"]}', style='List Bullet')\n",
        "\n",
        "    # add a blank for aesthetic and for easy skimming of the attributes of this particular sample\n",
        "    doc.add_paragraph('')"
      ],
      "metadata": {
        "id": "dbLN6tLx7lSy"
      },
      "execution_count": 5,
      "outputs": []
    },
    {
      "cell_type": "code",
      "source": [
        "# save the file\n",
        "filename = 'iris_data_skim-able.docx'\n",
        "doc.save(filename)"
      ],
      "metadata": {
        "id": "iCGc3DYj8H-M"
      },
      "execution_count": 6,
      "outputs": []
    },
    {
      "cell_type": "code",
      "source": [
        "# @title Now, let's make a general implementation to make a similar format for an arbitrary spreadsheet\n",
        "\n",
        "# configurations\n",
        "SPREADSHEET_FILEPATH = '/content/top_attractions.csv' # put the path to your spreadhseet here\n",
        "DOCX_FILEPATH = 'attractions_skimmable.docx'  # choose a destination docx filepath\n",
        "SAMPLE_TYPE = 'attraction'  # In this example, each sample is a tourist attraction vacancy"
      ],
      "metadata": {
        "id": "mf-CtMlA8ViT"
      },
      "execution_count": 9,
      "outputs": []
    },
    {
      "cell_type": "code",
      "source": [
        "# if the file is in csv format:\n",
        "data = pd.read_csv(SPREADSHEET_FILEPATH)\n",
        "\n",
        "# if excel:\n",
        "# data = pd.read_excel(SPREADSHEET_FILEPATH)\n",
        "\n",
        "# create Document object and define a custom header for the document\n",
        "doc = Document()\n",
        "doc.add_heading(f'Readbale format of {SPREADSHEET_FILEPATH}', 0)\n",
        "\n",
        "# iterate through the rows / samples\n",
        "for index, row in data.iterrows():\n",
        "    # give each sample a custom heading, numbered\n",
        "    doc.add_heading(f'{SAMPLE_TYPE} #{index}', level=1)\n",
        "\n",
        "    # iterate through all the columns for each sample\n",
        "    for col, val in row.items():\n",
        "        p = doc.add_paragraph(style='List Bullet')\n",
        "\n",
        "        # the column name is bolded, and is followed by a ':'\n",
        "        p.add_run(f'{col}: ').bold = True\n",
        "\n",
        "        # display the column value after the column name and ':'\n",
        "        p.add_run(str(val))\n",
        "\n",
        "    # add an aesthetic blank line to make skimming easier\n",
        "    doc.add_paragraph('')\n",
        "\n",
        "doc.save(DOCX_FILEPATH)"
      ],
      "metadata": {
        "id": "D7squ03yBG9P"
      },
      "execution_count": null,
      "outputs": []
    },
    {
      "cell_type": "markdown",
      "source": [
        "## Thank you for stopping by!"
      ],
      "metadata": {
        "id": "JdAFI10DA6BQ"
      }
    }
  ]
}